{
 "cells": [
  {
   "cell_type": "markdown",
   "id": "5b451fcd-d58d-4a6e-9971-048a7e3df7b4",
   "metadata": {},
   "source": [
    "# Internal-Gravity Waves\n",
    "\n",
    "In this code we will solve the boussinesq equations linearized around a state of rest, which can be written in vector form as: \n",
    "$$\n",
    "\\frac{\\partial \\mathbf{u}}{\\partial t} + \\nabla \\phi - b \\hat{k} = 0\n",
    "$$\n",
    "\n",
    "$$\n",
    "\\nabla \\cdot \\mathbf{u} =0\n",
    "$$\n",
    "\n",
    "$$\n",
    "\\frac{\\partial b}{\\partial t} + N^2 \\mathbf{u} \\cdot \\hat{k} = 0\n",
    "$$\n",
    "\n",
    "where $\\mathbf{u} = (u, w)$ is the velocity in the 2D x-z plane, b is the buoyancy field, and $\\phi$ is the dynamics pressure. $N^2$ is the background buoyancy field (constant here, but doesn't need to be in general). \n",
    "\n",
    "> For more context see section 2.10 in the Vallis book.\n",
    "\n",
    "\n",
    "Here we will solve the equations for a simple scenario. "
   ]
  },
  {
   "cell_type": "code",
   "execution_count": 1,
   "id": "9bb230d9-7eab-475d-87da-8a3efe489c61",
   "metadata": {},
   "outputs": [],
   "source": [
    "import numpy as np\n",
    "import dedalus.public as d3\n",
    "import logging\n",
    "logger = logging.getLogger(__name__)"
   ]
  },
  {
   "cell_type": "code",
   "execution_count": 2,
   "id": "0b4e8e21-a578-4155-b6c7-f9beb561c612",
   "metadata": {},
   "outputs": [],
   "source": [
    "# Parameters\n",
    "Lx, Lz = 4, 1\n",
    "Nx, Nz = 256, 64\n",
    "\n",
    "N2= 1 # You can change, but not needed for the HW.\n",
    "\n",
    "dealias = 3/2\n",
    "stop_sim_time = 75\n",
    "timestepper = d3.RK222\n",
    "max_timestep = 0.125\n",
    "dtype = np.float64"
   ]
  },
  {
   "cell_type": "code",
   "execution_count": 3,
   "id": "45759075-6f97-40a7-9e0f-ea3345dd6f61",
   "metadata": {},
   "outputs": [],
   "source": [
    "# Bases\n",
    "coords = d3.CartesianCoordinates('x', 'z')\n",
    "dist = d3.Distributor(coords, dtype=dtype)\n",
    "xbasis = d3.RealFourier(coords['x'], size=Nx, bounds=(-Lx, Lx), dealias=dealias)\n",
    "zbasis = d3.RealFourier(coords['z'], size=Nz, bounds=(-Lz, Lz), dealias=dealias)\n",
    "\n",
    "# Fields\n",
    "p = dist.Field(name='p', bases=(xbasis,zbasis))\n",
    "b = dist.Field(name='b', bases=(xbasis,zbasis))\n",
    "u = dist.VectorField(coords, name='u', bases=(xbasis,zbasis))\n",
    "#w = dist.Field(name='w', bases=(xbasis,zbasis))\n",
    "\n",
    "tau_p = dist.Field(name='tau_p')\n",
    "\n",
    "x, z = dist.local_grids(xbasis, zbasis)\n",
    "ex, ez = coords.unit_vector_fields(dist)"
   ]
  },
  {
   "cell_type": "markdown",
   "id": "819b45e3-f9a6-4a86-a8cc-979f9194948e",
   "metadata": {},
   "source": [
    "We will force the system with a time varying forcing (sinusoidal in time), which will be applied to a local region (localized using a gaussian). \n",
    "\n",
    "The goal will be to see how waves emanate from this forcing region. "
   ]
  },
  {
   "cell_type": "code",
   "execution_count": 4,
   "id": "3c72648a-d9d9-4493-be3c-f9259114c1d0",
   "metadata": {},
   "outputs": [],
   "source": [
    "# Setup Forcing \n",
    "Fxz = dist.Field(name='Fxz', bases=(xbasis,zbasis))\n",
    "\n",
    "sigma = 0.03 # sets the size of the forcing region. You may need to change this.\n",
    "Fxz['g'] = np.exp(-((x)**2 + (z)**2) / (2 * sigma**2))\n",
    "\n",
    "t = dist.Field()\n",
    "forcing_freq = 0.5*N2 # You may need to change (we are setting this relative to N2 for physical meangingfulness)\n",
    "Ft = np.sin(forcing_freq*t)"
   ]
  },
  {
   "cell_type": "code",
   "execution_count": 5,
   "id": "1d2d47dd-62af-4527-97dc-91314c4a9879",
   "metadata": {},
   "outputs": [
    {
     "name": "stdout",
     "output_type": "stream",
     "text": [
      "2025-02-20 15:54:35,615 matplotlib.font_manager 0/1 WARNING :: Matplotlib is building the font cache; this may take a moment.\n",
      "2025-02-20 15:54:56,137 matplotlib.font_manager 0/1 INFO :: Failed to extract font properties from /System/Library/PrivateFrameworks/FontServices.framework/Resources/Reserved/PingFangUI.ttc: Can not load face (locations (loca) table missing; error code 0x90)\n",
      "2025-02-20 15:54:56,150 matplotlib.font_manager 0/1 INFO :: Failed to extract font properties from /System/Library/Fonts/SFNSMono.ttf: <flag 'StyleFlags'> invalid value 393216\n",
      "    given 0b0 1100000000000000000\n",
      "  allowed 0b0 0000000000000000011\n",
      "2025-02-20 15:54:56,165 matplotlib.font_manager 0/1 INFO :: Failed to extract font properties from /System/Library/Fonts/Apple Color Emoji.ttc: Could not set the fontsize (invalid pixel size; error code 0x17)\n",
      "2025-02-20 15:54:56,196 matplotlib.font_manager 0/1 INFO :: Failed to extract font properties from /System/Library/Fonts/SFCompact.ttf: <flag 'StyleFlags'> invalid value 2686976\n",
      "    given 0b0 1010010000000000000000\n",
      "  allowed 0b0 0000000000000000000011\n",
      "2025-02-20 15:54:56,260 matplotlib.font_manager 0/1 INFO :: Failed to extract font properties from /System/Library/Fonts/SFCompactItalic.ttf: <flag 'StyleFlags'> invalid value 2686977\n",
      "    given 0b0 1010010000000000000001\n",
      "  allowed 0b0 0000000000000000000011\n",
      "2025-02-20 15:54:56,271 matplotlib.font_manager 0/1 INFO :: Failed to extract font properties from /System/Library/Fonts/Supplemental/NISC18030.ttf: Could not set the fontsize (invalid pixel size; error code 0x17)\n",
      "2025-02-20 15:54:56,338 matplotlib.font_manager 0/1 INFO :: Failed to extract font properties from /System/Library/Fonts/LastResort.otf: tuple indices must be integers or slices, not str\n",
      "2025-02-20 15:54:56,399 matplotlib.font_manager 0/1 INFO :: generated new fontManager\n"
     ]
    },
    {
     "data": {
      "image/png": "[encoded data removed]",
      "text/plain": [
       "<Figure size 640x480 with 3 Axes>"
      ]
     },
     "metadata": {},
     "output_type": "display_data"
    }
   ],
   "source": [
    "from dedalus.extras.plot_tools import plot_bot_2d\n",
    "plot_bot_2d(Fxz,title=\"Region where forcing is applied\");"
   ]
  },
  {
   "cell_type": "code",
   "execution_count": 6,
   "id": "6b892885-4615-42be-adc0-5d6f5f38f754",
   "metadata": {},
   "outputs": [],
   "source": [
    "problem = d3.IVP([p, b, u, tau_p], time=t, namespace=locals())"
   ]
  },
  {
   "cell_type": "markdown",
   "id": "cb797b56-6a3b-4e80-b4ff-0e4aa5c499e6",
   "metadata": {},
   "source": [
    "In principle the system can solved quite easily, using Dedalus. Notice that the equations are entered in almost readable form. \n",
    "\n",
    ">@ is the dot product, * is just simple multiplication. \n",
    "\n",
    "Also notice that we are applying the forcing only to the vertical momentum equation. "
   ]
  },
  {
   "cell_type": "code",
   "execution_count": 7,
   "id": "37645719-5b7f-4fe5-b8e5-d12b953bd66d",
   "metadata": {},
   "outputs": [],
   "source": [
    "problem.add_equation(\"dt(u) + grad(p) - b*ez = (Fxz*Ft)*ez\")\n",
    "problem.add_equation(\"div(u) + tau_p = 0\")\n",
    "problem.add_equation(\"dt(b) + N2*(u@ez) = 0\")\n",
    "problem.add_equation(\"integ(p) = 0\");"
   ]
  },
  {
   "cell_type": "code",
   "execution_count": 8,
   "id": "d50cae46-e10d-4f82-8a7f-17c62fe1de3a",
   "metadata": {},
   "outputs": [
    {
     "name": "stdout",
     "output_type": "stream",
     "text": [
      "2025-02-20 15:54:57,825 subsystems 0/1 INFO :: Building subproblem matrices 1/128 (~1%) Elapsed: 0s, Remaining: 3s, Rate: 4.3e+01/s\n",
      "2025-02-20 15:54:57,977 subsystems 0/1 INFO :: Building subproblem matrices 13/128 (~10%) Elapsed: 0s, Remaining: 2s, Rate: 7.4e+01/s\n",
      "2025-02-20 15:54:58,135 subsystems 0/1 INFO :: Building subproblem matrices 26/128 (~20%) Elapsed: 0s, Remaining: 1s, Rate: 7.8e+01/s\n",
      "2025-02-20 15:54:58,298 subsystems 0/1 INFO :: Building subproblem matrices 39/128 (~30%) Elapsed: 0s, Remaining: 1s, Rate: 7.9e+01/s\n",
      "2025-02-20 15:54:58,454 subsystems 0/1 INFO :: Building subproblem matrices 52/128 (~41%) Elapsed: 1s, Remaining: 1s, Rate: 8.0e+01/s\n",
      "2025-02-20 15:54:58,616 subsystems 0/1 INFO :: Building subproblem matrices 65/128 (~51%) Elapsed: 1s, Remaining: 1s, Rate: 8.0e+01/s\n",
      "2025-02-20 15:54:58,776 subsystems 0/1 INFO :: Building subproblem matrices 78/128 (~61%) Elapsed: 1s, Remaining: 1s, Rate: 8.0e+01/s\n",
      "2025-02-20 15:54:58,938 subsystems 0/1 INFO :: Building subproblem matrices 91/128 (~71%) Elapsed: 1s, Remaining: 0s, Rate: 8.0e+01/s\n",
      "2025-02-20 15:54:59,102 subsystems 0/1 INFO :: Building subproblem matrices 104/128 (~81%) Elapsed: 1s, Remaining: 0s, Rate: 8.0e+01/s\n",
      "2025-02-20 15:54:59,269 subsystems 0/1 INFO :: Building subproblem matrices 117/128 (~91%) Elapsed: 1s, Remaining: 0s, Rate: 8.0e+01/s\n",
      "2025-02-20 15:54:59,410 subsystems 0/1 INFO :: Building subproblem matrices 128/128 (~100%) Elapsed: 2s, Remaining: 0s, Rate: 8.0e+01/s\n"
     ]
    }
   ],
   "source": [
    "# Solver\n",
    "solver = problem.build_solver(timestepper)\n",
    "solver.stop_sim_time = stop_sim_time"
   ]
  },
  {
   "cell_type": "markdown",
   "id": "e22d8b87-fe35-42b9-94f0-aca7fe09261d",
   "metadata": {},
   "source": [
    "The next few lines setup the way that the data will be saved."
   ]
  },
  {
   "cell_type": "code",
   "execution_count": 9,
   "id": "810bca9d-5806-4c36-a832-cd6685eed12d",
   "metadata": {},
   "outputs": [],
   "source": [
    "# Analysis\n",
    "sim_dt = 0.25\n",
    "max_writes = stop_sim_time/sim_dt\n",
    "data_fname = 'snapshots'\n",
    "snapshots = solver.evaluator.add_file_handler(data_fname, \n",
    "                                              sim_dt=sim_dt, \n",
    "                                              max_writes=max_writes)\n",
    "snapshots.add_task(b, name='buoyancy')\n",
    "snapshots.add_task(u, name='uvec')\n",
    "snapshots.add_task(p, name='pressure')\n",
    "#snapshots.add_task(-d3.div(d3.skew(u)), name='vorticity')"
   ]
  },
  {
   "cell_type": "code",
   "execution_count": 10,
   "id": "4225a864-b21b-4e4b-829a-4dfe00c878a2",
   "metadata": {},
   "outputs": [],
   "source": [
    "# CFL (adapt time step as needed)\n",
    "CFL = d3.CFL(solver, initial_dt=max_timestep, cadence=10, safety=0.5, threshold=0.05,\n",
    "             max_change=1.5, min_change=0.5, max_dt=max_timestep)\n",
    "CFL.add_velocity(u)"
   ]
  },
  {
   "cell_type": "code",
   "execution_count": null,
   "id": "f6ffb35e-0aea-43c2-928a-781fc356e29c",
   "metadata": {},
   "outputs": [
    {
     "name": "stdout",
     "output_type": "stream",
     "text": [
      "2025-02-20 15:54:59,429 __main__ 0/1 INFO :: Starting main loop\n",
      "2025-02-20 15:55:00,417 __main__ 0/1 INFO :: Iteration=1, Time=1.250000e-01, dt=1.250000e-01\n",
      "2025-02-20 15:55:00,674 __main__ 0/1 INFO :: Iteration=11, Time=1.375000e+00, dt=1.250000e-01\n",
      "2025-02-20 15:55:01,005 __main__ 0/1 INFO :: Iteration=21, Time=2.287673e+00, dt=9.126735e-02\n",
      "2025-02-20 15:55:01,331 __main__ 0/1 INFO :: Iteration=31, Time=2.744010e+00, dt=4.563367e-02\n",
      "2025-02-20 15:55:01,651 __main__ 0/1 INFO :: Iteration=41, Time=3.081412e+00, dt=3.374023e-02\n",
      "2025-02-20 15:55:01,879 __main__ 0/1 INFO :: Iteration=51, Time=3.418815e+00, dt=3.374023e-02\n",
      "2025-02-20 15:55:02,112 __main__ 0/1 INFO :: Iteration=61, Time=3.756217e+00, dt=3.374023e-02\n",
      "2025-02-20 15:55:02,430 __main__ 0/1 INFO :: Iteration=71, Time=4.159853e+00, dt=4.036360e-02\n",
      "2025-02-20 15:55:02,747 __main__ 0/1 INFO :: Iteration=81, Time=4.735831e+00, dt=5.759777e-02\n",
      "2025-02-20 15:55:03,074 __main__ 0/1 INFO :: Iteration=91, Time=5.486122e+00, dt=7.502910e-02\n",
      "2025-02-20 15:55:03,386 __main__ 0/1 INFO :: Iteration=101, Time=6.002065e+00, dt=5.159437e-02\n",
      "2025-02-20 15:55:03,697 __main__ 0/1 INFO :: Iteration=111, Time=6.298506e+00, dt=2.964411e-02\n",
      "2025-02-20 15:55:04,011 __main__ 0/1 INFO :: Iteration=121, Time=6.544810e+00, dt=2.463040e-02\n",
      "2025-02-20 15:55:04,316 __main__ 0/1 INFO :: Iteration=131, Time=6.768336e+00, dt=2.235255e-02\n",
      "2025-02-20 15:55:04,634 __main__ 0/1 INFO :: Iteration=141, Time=6.979463e+00, dt=2.111266e-02\n",
      "2025-02-20 15:55:04,871 __main__ 0/1 INFO :: Iteration=151, Time=7.190589e+00, dt=2.111266e-02\n",
      "2025-02-20 15:55:05,109 __main__ 0/1 INFO :: Iteration=161, Time=7.401716e+00, dt=2.111266e-02\n",
      "2025-02-20 15:55:05,343 __main__ 0/1 INFO :: Iteration=171, Time=7.612842e+00, dt=2.111266e-02\n",
      "2025-02-20 15:55:05,577 __main__ 0/1 INFO :: Iteration=181, Time=7.823969e+00, dt=2.111266e-02\n",
      "2025-02-20 15:55:05,807 __main__ 0/1 INFO :: Iteration=191, Time=8.035096e+00, dt=2.111266e-02\n",
      "2025-02-20 15:55:06,116 __main__ 0/1 INFO :: Iteration=201, Time=8.272144e+00, dt=2.370482e-02\n",
      "2025-02-20 15:55:06,423 __main__ 0/1 INFO :: Iteration=211, Time=8.534934e+00, dt=2.627898e-02\n",
      "2025-02-20 15:55:06,726 __main__ 0/1 INFO :: Iteration=221, Time=8.837630e+00, dt=3.026965e-02\n",
      "2025-02-20 15:55:07,033 __main__ 0/1 INFO :: Iteration=231, Time=9.177115e+00, dt=3.394845e-02\n",
      "2025-02-20 15:55:07,269 __main__ 0/1 INFO :: Iteration=241, Time=9.516599e+00, dt=3.394845e-02\n",
      "2025-02-20 15:55:07,519 __main__ 0/1 INFO :: Iteration=251, Time=9.856084e+00, dt=3.394845e-02\n",
      "2025-02-20 15:55:07,756 __main__ 0/1 INFO :: Iteration=261, Time=1.019557e+01, dt=3.394845e-02\n",
      "2025-02-20 15:55:07,995 __main__ 0/1 INFO :: Iteration=271, Time=1.053505e+01, dt=3.394845e-02\n",
      "2025-02-20 15:55:08,304 __main__ 0/1 INFO :: Iteration=281, Time=1.089992e+01, dt=3.648629e-02\n",
      "2025-02-20 15:55:08,616 __main__ 0/1 INFO :: Iteration=291, Time=1.129497e+01, dt=3.950567e-02\n",
      "2025-02-20 15:55:08,920 __main__ 0/1 INFO :: Iteration=301, Time=1.171574e+01, dt=4.207637e-02\n",
      "2025-02-20 15:55:09,238 __main__ 0/1 INFO :: Iteration=311, Time=1.216496e+01, dt=4.492279e-02\n",
      "2025-02-20 15:55:09,561 __main__ 0/1 INFO :: Iteration=321, Time=1.257873e+01, dt=4.137663e-02\n",
      "2025-02-20 15:55:09,796 __main__ 0/1 INFO :: Iteration=331, Time=1.299250e+01, dt=4.137663e-02\n",
      "2025-02-20 15:55:10,112 __main__ 0/1 INFO :: Iteration=341, Time=1.337126e+01, dt=3.787616e-02\n",
      "2025-02-20 15:55:10,350 __main__ 0/1 INFO :: Iteration=351, Time=1.375002e+01, dt=3.787616e-02\n",
      "2025-02-20 15:55:10,675 __main__ 0/1 INFO :: Iteration=361, Time=1.410349e+01, dt=3.534726e-02\n",
      "2025-02-20 15:55:10,920 __main__ 0/1 INFO :: Iteration=371, Time=1.445696e+01, dt=3.534726e-02\n",
      "2025-02-20 15:55:11,166 __main__ 0/1 INFO :: Iteration=381, Time=1.481044e+01, dt=3.534726e-02\n",
      "2025-02-20 15:55:11,405 __main__ 0/1 INFO :: Iteration=391, Time=1.516391e+01, dt=3.534726e-02\n",
      "2025-02-20 15:55:11,641 __main__ 0/1 INFO :: Iteration=401, Time=1.551738e+01, dt=3.534726e-02\n",
      "2025-02-20 15:55:11,979 __main__ 0/1 INFO :: Iteration=411, Time=1.589540e+01, dt=3.780175e-02\n",
      "2025-02-20 15:55:12,224 __main__ 0/1 INFO :: Iteration=421, Time=1.627342e+01, dt=3.780175e-02\n",
      "2025-02-20 15:55:12,531 __main__ 0/1 INFO :: Iteration=431, Time=1.667790e+01, dt=4.044832e-02\n",
      "2025-02-20 15:55:12,779 __main__ 0/1 INFO :: Iteration=441, Time=1.708238e+01, dt=4.044832e-02\n",
      "2025-02-20 15:55:13,017 __main__ 0/1 INFO :: Iteration=451, Time=1.748687e+01, dt=4.044832e-02\n",
      "2025-02-20 15:55:13,337 __main__ 0/1 INFO :: Iteration=461, Time=1.792128e+01, dt=4.344110e-02\n",
      "2025-02-20 15:55:13,653 __main__ 0/1 INFO :: Iteration=471, Time=1.838047e+01, dt=4.591930e-02\n",
      "2025-02-20 15:55:13,959 __main__ 0/1 INFO :: Iteration=481, Time=1.873411e+01, dt=3.536392e-02\n",
      "2025-02-20 15:55:14,274 __main__ 0/1 INFO :: Iteration=491, Time=1.901896e+01, dt=2.848468e-02\n",
      "2025-02-20 15:55:14,579 __main__ 0/1 INFO :: Iteration=501, Time=1.927275e+01, dt=2.537922e-02\n",
      "2025-02-20 15:55:14,875 __main__ 0/1 INFO :: Iteration=511, Time=1.950996e+01, dt=2.372139e-02\n",
      "2025-02-20 15:55:15,108 __main__ 0/1 INFO :: Iteration=521, Time=1.974718e+01, dt=2.372139e-02\n",
      "2025-02-20 15:55:15,419 __main__ 0/1 INFO :: Iteration=531, Time=1.997223e+01, dt=2.250547e-02\n",
      "2025-02-20 15:55:15,654 __main__ 0/1 INFO :: Iteration=541, Time=2.019729e+01, dt=2.250547e-02\n",
      "2025-02-20 15:55:15,891 __main__ 0/1 INFO :: Iteration=551, Time=2.042234e+01, dt=2.250547e-02\n",
      "2025-02-20 15:55:16,225 __main__ 0/1 INFO :: Iteration=561, Time=2.066473e+01, dt=2.423914e-02\n",
      "2025-02-20 15:55:16,544 __main__ 0/1 INFO :: Iteration=571, Time=2.092461e+01, dt=2.598776e-02\n",
      "2025-02-20 15:55:16,872 __main__ 0/1 INFO :: Iteration=581, Time=2.121270e+01, dt=2.880896e-02\n",
      "2025-02-20 15:55:17,206 __main__ 0/1 INFO :: Iteration=591, Time=2.154284e+01, dt=3.301398e-02\n",
      "2025-02-20 15:55:17,531 __main__ 0/1 INFO :: Iteration=601, Time=2.189743e+01, dt=3.545871e-02\n",
      "2025-02-20 15:55:17,771 __main__ 0/1 INFO :: Iteration=611, Time=2.225201e+01, dt=3.545871e-02\n",
      "2025-02-20 15:55:18,019 __main__ 0/1 INFO :: Iteration=621, Time=2.260660e+01, dt=3.545871e-02\n",
      "2025-02-20 15:55:18,282 __main__ 0/1 INFO :: Iteration=631, Time=2.296119e+01, dt=3.545871e-02\n",
      "2025-02-20 15:55:18,534 __main__ 0/1 INFO :: Iteration=641, Time=2.331578e+01, dt=3.545871e-02\n",
      "2025-02-20 15:55:18,850 __main__ 0/1 INFO :: Iteration=651, Time=2.370890e+01, dt=3.931260e-02\n",
      "2025-02-20 15:55:19,092 __main__ 0/1 INFO :: Iteration=661, Time=2.410203e+01, dt=3.931260e-02\n",
      "2025-02-20 15:55:19,415 __main__ 0/1 INFO :: Iteration=671, Time=2.453776e+01, dt=4.357307e-02\n",
      "2025-02-20 15:55:19,652 __main__ 0/1 INFO :: Iteration=681, Time=2.497349e+01, dt=4.357307e-02\n",
      "2025-02-20 15:55:19,963 __main__ 0/1 INFO :: Iteration=691, Time=2.535457e+01, dt=3.810846e-02\n",
      "2025-02-20 15:55:20,287 __main__ 0/1 INFO :: Iteration=701, Time=2.571161e+01, dt=3.570410e-02\n",
      "2025-02-20 15:55:20,543 __main__ 0/1 INFO :: Iteration=711, Time=2.606865e+01, dt=3.570410e-02\n",
      "2025-02-20 15:55:20,856 __main__ 0/1 INFO :: Iteration=721, Time=2.639931e+01, dt=3.306515e-02\n",
      "2025-02-20 15:55:21,087 __main__ 0/1 INFO :: Iteration=731, Time=2.672996e+01, dt=3.306515e-02\n",
      "2025-02-20 15:55:21,328 __main__ 0/1 INFO :: Iteration=741, Time=2.706061e+01, dt=3.306515e-02\n",
      "2025-02-20 15:55:21,563 __main__ 0/1 INFO :: Iteration=751, Time=2.739126e+01, dt=3.306515e-02\n",
      "2025-02-20 15:55:21,801 __main__ 0/1 INFO :: Iteration=761, Time=2.772191e+01, dt=3.306515e-02\n",
      "2025-02-20 15:55:22,115 __main__ 0/1 INFO :: Iteration=771, Time=2.807120e+01, dt=3.492904e-02\n",
      "2025-02-20 15:55:22,435 __main__ 0/1 INFO :: Iteration=781, Time=2.845248e+01, dt=3.812739e-02\n",
      "2025-02-20 15:55:22,687 __main__ 0/1 INFO :: Iteration=791, Time=2.883375e+01, dt=3.812739e-02\n",
      "2025-02-20 15:55:22,927 __main__ 0/1 INFO :: Iteration=801, Time=2.921502e+01, dt=3.812739e-02\n",
      "2025-02-20 15:55:23,235 __main__ 0/1 INFO :: Iteration=811, Time=2.961865e+01, dt=4.036209e-02\n",
      "2025-02-20 15:55:23,482 __main__ 0/1 INFO :: Iteration=821, Time=3.002227e+01, dt=4.036209e-02\n",
      "2025-02-20 15:55:23,789 __main__ 0/1 INFO :: Iteration=831, Time=3.045115e+01, dt=4.288866e-02\n",
      "2025-02-20 15:55:24,041 __main__ 0/1 INFO :: Iteration=841, Time=3.088004e+01, dt=4.288866e-02\n",
      "2025-02-20 15:55:24,349 __main__ 0/1 INFO :: Iteration=851, Time=3.125529e+01, dt=3.752496e-02\n",
      "2025-02-20 15:55:24,670 __main__ 0/1 INFO :: Iteration=861, Time=3.155497e+01, dt=2.996828e-02\n",
      "2025-02-20 15:55:24,983 __main__ 0/1 INFO :: Iteration=871, Time=3.182058e+01, dt=2.656113e-02\n",
      "2025-02-20 15:55:25,294 __main__ 0/1 INFO :: Iteration=881, Time=3.206817e+01, dt=2.475825e-02\n",
      "2025-02-20 15:55:25,535 __main__ 0/1 INFO :: Iteration=891, Time=3.231575e+01, dt=2.475825e-02\n",
      "2025-02-20 15:55:25,856 __main__ 0/1 INFO :: Iteration=901, Time=3.254996e+01, dt=2.342146e-02\n",
      "2025-02-20 15:55:26,097 __main__ 0/1 INFO :: Iteration=911, Time=3.278418e+01, dt=2.342146e-02\n",
      "2025-02-20 15:55:26,340 __main__ 0/1 INFO :: Iteration=921, Time=3.301839e+01, dt=2.342146e-02\n",
      "2025-02-20 15:55:26,655 __main__ 0/1 INFO :: Iteration=931, Time=3.327035e+01, dt=2.519548e-02\n",
      "2025-02-20 15:55:26,957 __main__ 0/1 INFO :: Iteration=941, Time=3.354057e+01, dt=2.702238e-02\n",
      "2025-02-20 15:55:27,257 __main__ 0/1 INFO :: Iteration=951, Time=3.384045e+01, dt=2.998799e-02\n",
      "2025-02-20 15:55:27,566 __main__ 0/1 INFO :: Iteration=961, Time=3.418195e+01, dt=3.415040e-02\n",
      "2025-02-20 15:55:27,805 __main__ 0/1 INFO :: Iteration=971, Time=3.452346e+01, dt=3.415040e-02\n",
      "2025-02-20 15:55:28,112 __main__ 0/1 INFO :: Iteration=981, Time=3.488416e+01, dt=3.607026e-02\n",
      "2025-02-20 15:55:28,350 __main__ 0/1 INFO :: Iteration=991, Time=3.524486e+01, dt=3.607026e-02\n",
      "2025-02-20 15:55:28,588 __main__ 0/1 INFO :: Iteration=1001, Time=3.560557e+01, dt=3.607026e-02\n",
      "2025-02-20 15:55:28,902 __main__ 0/1 INFO :: Iteration=1011, Time=3.598667e+01, dt=3.811000e-02\n",
      "2025-02-20 15:55:29,137 __main__ 0/1 INFO :: Iteration=1021, Time=3.636777e+01, dt=3.811000e-02\n",
      "2025-02-20 15:55:29,456 __main__ 0/1 INFO :: Iteration=1031, Time=3.677893e+01, dt=4.111634e-02\n",
      "2025-02-20 15:55:29,780 __main__ 0/1 INFO :: Iteration=1041, Time=3.722144e+01, dt=4.425131e-02\n",
      "2025-02-20 15:55:30,106 __main__ 0/1 INFO :: Iteration=1051, Time=3.762866e+01, dt=4.072206e-02\n",
      "2025-02-20 15:55:30,413 __main__ 0/1 INFO :: Iteration=1061, Time=3.799484e+01, dt=3.661738e-02\n",
      "2025-02-20 15:55:30,746 __main__ 0/1 INFO :: Iteration=1071, Time=3.833738e+01, dt=3.425451e-02\n",
      "2025-02-20 15:55:30,985 __main__ 0/1 INFO :: Iteration=1081, Time=3.867993e+01, dt=3.425451e-02\n",
      "2025-02-20 15:55:31,300 __main__ 0/1 INFO :: Iteration=1091, Time=3.899874e+01, dt=3.188076e-02\n",
      "2025-02-20 15:55:31,559 __main__ 0/1 INFO :: Iteration=1101, Time=3.931754e+01, dt=3.188076e-02\n",
      "2025-02-20 15:55:31,804 __main__ 0/1 INFO :: Iteration=1111, Time=3.963635e+01, dt=3.188076e-02\n",
      "2025-02-20 15:55:32,043 __main__ 0/1 INFO :: Iteration=1121, Time=3.995516e+01, dt=3.188076e-02\n",
      "2025-02-20 15:55:32,293 __main__ 0/1 INFO :: Iteration=1131, Time=4.027397e+01, dt=3.188076e-02\n",
      "2025-02-20 15:55:32,607 __main__ 0/1 INFO :: Iteration=1141, Time=4.062437e+01, dt=3.504034e-02\n",
      "2025-02-20 15:55:32,921 __main__ 0/1 INFO :: Iteration=1151, Time=4.100452e+01, dt=3.801509e-02\n",
      "2025-02-20 15:55:33,172 __main__ 0/1 INFO :: Iteration=1161, Time=4.138467e+01, dt=3.801509e-02\n",
      "2025-02-20 15:55:33,412 __main__ 0/1 INFO :: Iteration=1171, Time=4.176482e+01, dt=3.801509e-02\n",
      "2025-02-20 15:55:33,734 __main__ 0/1 INFO :: Iteration=1181, Time=4.216875e+01, dt=4.039315e-02\n",
      "2025-02-20 15:55:33,983 __main__ 0/1 INFO :: Iteration=1191, Time=4.257268e+01, dt=4.039315e-02\n",
      "2025-02-20 15:55:34,297 __main__ 0/1 INFO :: Iteration=1201, Time=4.300037e+01, dt=4.276882e-02\n",
      "2025-02-20 15:55:34,552 __main__ 0/1 INFO :: Iteration=1211, Time=4.342806e+01, dt=4.276882e-02\n",
      "2025-02-20 15:55:34,874 __main__ 0/1 INFO :: Iteration=1221, Time=4.381066e+01, dt=3.825999e-02\n",
      "2025-02-20 15:55:35,185 __main__ 0/1 INFO :: Iteration=1231, Time=4.411703e+01, dt=3.063660e-02\n",
      "2025-02-20 15:55:35,495 __main__ 0/1 INFO :: Iteration=1241, Time=4.438883e+01, dt=2.718059e-02\n",
      "2025-02-20 15:55:35,810 __main__ 0/1 INFO :: Iteration=1251, Time=4.464239e+01, dt=2.535555e-02\n",
      "2025-02-20 15:55:36,046 __main__ 0/1 INFO :: Iteration=1261, Time=4.489594e+01, dt=2.535555e-02\n",
      "2025-02-20 15:55:36,359 __main__ 0/1 INFO :: Iteration=1271, Time=4.513621e+01, dt=2.402701e-02\n",
      "2025-02-20 15:55:36,598 __main__ 0/1 INFO :: Iteration=1281, Time=4.537648e+01, dt=2.402701e-02\n",
      "2025-02-20 15:55:36,834 __main__ 0/1 INFO :: Iteration=1291, Time=4.561675e+01, dt=2.402701e-02\n",
      "2025-02-20 15:55:37,146 __main__ 0/1 INFO :: Iteration=1301, Time=4.587627e+01, dt=2.595181e-02\n",
      "2025-02-20 15:55:37,461 __main__ 0/1 INFO :: Iteration=1311, Time=4.615534e+01, dt=2.790670e-02\n",
      "2025-02-20 15:55:37,777 __main__ 0/1 INFO :: Iteration=1321, Time=4.646635e+01, dt=3.110139e-02\n",
      "2025-02-20 15:55:38,100 __main__ 0/1 INFO :: Iteration=1331, Time=4.681967e+01, dt=3.533120e-02\n",
      "2025-02-20 15:55:38,342 __main__ 0/1 INFO :: Iteration=1341, Time=4.717298e+01, dt=3.533120e-02\n",
      "2025-02-20 15:55:38,598 __main__ 0/1 INFO :: Iteration=1351, Time=4.752629e+01, dt=3.533120e-02\n",
      "2025-02-20 15:55:38,844 __main__ 0/1 INFO :: Iteration=1361, Time=4.787960e+01, dt=3.533120e-02\n",
      "2025-02-20 15:55:39,154 __main__ 0/1 INFO :: Iteration=1371, Time=4.825245e+01, dt=3.728508e-02\n"
     ]
    }
   ],
   "source": [
    "# Main loop\n",
    "startup_iter = 10\n",
    "try:\n",
    "    logger.info('Starting main loop')\n",
    "    while solver.proceed:\n",
    "        timestep = CFL.compute_timestep()\n",
    "        solver.step(timestep)\n",
    "        if (solver.iteration-1) % 10 == 0:\n",
    "            \n",
    "            logger.info('Iteration=%i, Time=%e, dt=%e' %(solver.iteration, solver.sim_time, timestep))\n",
    "except:\n",
    "    logger.error('Exception raised, triggering end of main loop.')\n",
    "    raise\n",
    "finally:\n",
    "    solver.log_stats()\n"
   ]
  },
  {
   "cell_type": "markdown",
   "id": "20616206-6a4b-4c83-8f16-9318d0c7802d",
   "metadata": {},
   "source": []
  },
  {
   "cell_type": "markdown",
   "id": "ea339d6f-e42e-493e-8a1f-4709bca9bbea",
   "metadata": {},
   "source": [
    "# Plot the solution "
   ]
  },
  {
   "cell_type": "code",
   "execution_count": null,
   "id": "5676e85b-5a88-468a-9ad4-be0b7c46e11c",
   "metadata": {},
   "outputs": [],
   "source": [
    "import h5py\n",
    "import numpy as np\n",
    "import matplotlib\n",
    "import matplotlib.pyplot as plt\n",
    "import matplotlib.colors as colors\n",
    "import cmocean.cm as cmo\n",
    "import dedalus.public as d3\n",
    "import matplotlib.pyplot as plt\n",
    "import matplotlib\n",
    "import numpy as np\n",
    "import os\n",
    "from PIL import Image\n",
    "from mpl_toolkits.axes_grid1 import make_axes_locatable\n",
    "import xarray as xr"
   ]
  },
  {
   "cell_type": "code",
   "execution_count": null,
   "id": "b1e8b9c6-a167-41b9-83ed-392c51af82df",
   "metadata": {},
   "outputs": [],
   "source": [
    "simdata = './snapshots/snapshots_s1.h5'"
   ]
  },
  {
   "cell_type": "code",
   "execution_count": null,
   "id": "9b13c107-ff19-440d-9d91-27bd87266051",
   "metadata": {},
   "outputs": [],
   "source": [
    "# See what is in the data files\n",
    "with h5py.File(simdata, mode='r') as file:\n",
    "    a_group_key = list(file.keys())\n",
    "    print(a_group_key)\n",
    "    \n",
    "    print(file['scales'])\n",
    "    print(list(file['scales']))\n",
    "    print(file['tasks'])\n",
    "    print(list(file['tasks']))"
   ]
  },
  {
   "cell_type": "code",
   "execution_count": null,
   "id": "cded81b7-66dc-403f-9da6-b5b976ee7059",
   "metadata": {
    "tags": []
   },
   "outputs": [],
   "source": [
    "# Actually read in data files\n",
    "with h5py.File(simdata, mode='r') as file:\n",
    "    \n",
    "    b_data = np.squeeze(np.array(file['tasks']['buoyancy']))\n",
    "    print('b shape: ' + str(b_data.shape))\n",
    "    u_data = np.squeeze(np.array(file['tasks']['uvec']))\n",
    "    print('u_data: ' + str(u_data.shape))\n",
    "    p_data = np.squeeze(np.array(file['tasks']['pressure']))\n",
    "    print('p_data: ' + str(p_data.shape))\n",
    "    #vort_data = np.squeeze(np.array(file['tasks']['vorticity']))\n",
    "    #div_data = np.squeeze(np.array(file['tasks']['divergence']))\n",
    "    \n",
    "    sim_time_ary = np.array(file['scales']['sim_time'])\n",
    "    print(sim_time_ary.shape)\n",
    "    \n",
    "    x = np.array(file['scales'][list(file['scales'])[-2]])\n",
    "    z = np.array(file['scales'][list(file['scales'])[-1]])\n",
    "    "
   ]
  },
  {
   "cell_type": "code",
   "execution_count": null,
   "id": "e504a0f8-36c8-4c81-96f3-619f36f82448",
   "metadata": {},
   "outputs": [],
   "source": [
    "# Put data in xarray, as it is nice way to keep things organized\n",
    "ds_sim = xr.Dataset()\n",
    "\n",
    "ds_sim['b'] = xr.DataArray(b_data, coords = {'time':sim_time_ary, 'x':x, 'z':z})\n",
    "ds_sim['p'] = xr.DataArray(p_data, coords = {'time':sim_time_ary, 'x':x, 'z':z})\n",
    "ds_sim['u'] = xr.DataArray(u_data[:,0,:,:].squeeze(), coords = {'time':sim_time_ary, 'x':x, 'z':z})\n",
    "ds_sim['w'] = xr.DataArray(u_data[:,0,:,:].squeeze(), coords = {'time':sim_time_ary, 'x':x, 'z':z})"
   ]
  },
  {
   "cell_type": "code",
   "execution_count": null,
   "id": "98605253-a148-41d1-94b0-14b2227b0d90",
   "metadata": {},
   "outputs": [],
   "source": [
    "ds_sim"
   ]
  },
  {
   "cell_type": "code",
   "execution_count": null,
   "id": "ed3f4373-be25-4fe5-a748-664db02a708c",
   "metadata": {},
   "outputs": [],
   "source": [
    "plt.figure(figsize=(8, 10))\n",
    "plt.subplot(4,1,1)\n",
    "ds_sim.u.isel(time=-1).plot(x='x')\n",
    "\n",
    "plt.subplot(4,1,2)\n",
    "ds_sim.w.isel(time=-1).plot(x='x')\n",
    "\n",
    "plt.subplot(4,1,3)\n",
    "ds_sim.b.isel(time=-1).plot(x='x')\n",
    "\n",
    "plt.subplot(4,1,4)\n",
    "ds_sim.p.isel(time=-1).plot(x='x')\n",
    "\n",
    "plt.tight_layout()"
   ]
  },
  {
   "cell_type": "code",
   "execution_count": null,
   "id": "6605183a-01cd-42a8-9bc6-ece1c9803d13",
   "metadata": {},
   "outputs": [],
   "source": [
    "plt.figure(figsize=(3, 8))\n",
    "#plt.pcolormesh(x, y, b_data[20, :,:].T)\n",
    "ds_sim.b.sel(x=-0.5, method='nearest').plot(x='z')"
   ]
  },
  {
   "cell_type": "markdown",
   "id": "98395516-539e-4a55-8a1e-92c5e34321bc",
   "metadata": {},
   "source": [
    "Make a movie of a certain field"
   ]
  },
  {
   "cell_type": "code",
   "execution_count": null,
   "id": "c883c7ab-2f8e-4216-a3b4-561486e4776b",
   "metadata": {},
   "outputs": [],
   "source": [
    "def create_animation(fun, idx, filename='my-animation.gif', dpi=200, FPS=18, loop=0):\n",
    "    '''\n",
    "    See https://pythonprogramming.altervista.org/png-to-gif/\n",
    "    fun(i) - a function creating one snapshot, has only one input:\n",
    "        - number of frame i\n",
    "    idx - range of frames, i in idx\n",
    "    FPS - frames per second\n",
    "    filename - animation name\n",
    "    dpi - set 300 or so to increase quality\n",
    "    loop - number of repeats of the gif\n",
    "    '''\n",
    "    frames = []\n",
    "    for i in idx:\n",
    "        fun(i)\n",
    "        plt.savefig('.frame.png', dpi=dpi, bbox_inches='tight')\n",
    "        plt.close()\n",
    "        frames.append(Image.open('.frame.png').convert('RGB'))\n",
    "        print(f'Frame {i} is created', end='\\r')\n",
    "    os.system('rm .frame.png')\n",
    "    # How long to persist one frame in milliseconds to have a desired FPS\n",
    "    duration = 1000 / FPS\n",
    "    print(f'Animation at FPS={FPS} will last for {len(idx)/FPS} seconds')\n",
    "    frames[0].save(\n",
    "        filename, format='GIF',\n",
    "        append_images=frames[1:],\n",
    "        save_all=True,\n",
    "        duration=duration,\n",
    "        loop=loop)"
   ]
  },
  {
   "cell_type": "code",
   "execution_count": null,
   "id": "2a02793d-03a8-4ff4-bf64-0dcb82027c47",
   "metadata": {},
   "outputs": [],
   "source": [
    "# This function needs to be modified as needed if you want to make other movies\n",
    "def plot_fun(time_idx): \n",
    "    vmin=-1 \n",
    "    fig = plt.figure(figsize=(6, 2))\n",
    "    \n",
    "    ds_sim.b.isel(time=time_idx).plot(x='x', vmin=vmin)\n",
    "    plt.gca().set_aspect('equal')\n",
    "    \n",
    "    plt.title(f\"{sim_time_ary[time_idx]:.2f} s\")\n",
    "\n",
    "    plt.tight_layout()\n",
    "    "
   ]
  },
  {
   "cell_type": "code",
   "execution_count": null,
   "id": "8ba27709-6145-4b17-b8f9-3d5c8858d107",
   "metadata": {},
   "outputs": [],
   "source": [
    "plot_fun(-1)"
   ]
  },
  {
   "cell_type": "code",
   "execution_count": null,
   "id": "6eb41241-95db-4118-9204-bf6cc30f1a95",
   "metadata": {},
   "outputs": [],
   "source": [
    "fname = 'GW.gif'\n",
    "create_animation(plot_fun, range(0, len(sim_time_ary), 1), filename=fname)"
   ]
  },
  {
   "cell_type": "code",
   "execution_count": null,
   "id": "1f000aed-ef2d-43b2-bc0d-3be1123bbd32",
   "metadata": {},
   "outputs": [],
   "source": []
  }
 ],
 "metadata": {
  "kernelspec": {
   "display_name": "Python 3 (ipykernel)",
   "language": "python",
   "name": "python3"
  },
  "language_info": {
   "codemirror_mode": {
    "name": "ipython",
    "version": 3
   },
   "file_extension": ".py",
   "mimetype": "text/x-python",
   "name": "python",
   "nbconvert_exporter": "python",
   "pygments_lexer": "ipython3",
   "version": "3.13.2"
  }
 },
 "nbformat": 4,
 "nbformat_minor": 5
}
