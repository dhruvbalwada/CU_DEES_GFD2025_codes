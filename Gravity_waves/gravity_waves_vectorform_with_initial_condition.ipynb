{
 "cells": [
  {
   "cell_type": "markdown",
   "id": "5b451fcd-d58d-4a6e-9971-048a7e3df7b4",
   "metadata": {},
   "source": [
    "# Gravity Waves"
   ]
  },
  {
   "cell_type": "code",
   "execution_count": 1,
   "id": "9bb230d9-7eab-475d-87da-8a3efe489c61",
   "metadata": {},
   "outputs": [],
   "source": [
    "import numpy as np\n",
    "import dedalus.public as d3\n",
    "import logging\n",
    "logger = logging.getLogger(__name__)"
   ]
  },
  {
   "cell_type": "code",
   "execution_count": 2,
   "id": "0b4e8e21-a578-4155-b6c7-f9beb561c612",
   "metadata": {},
   "outputs": [],
   "source": [
    "# Parameters\n",
    "Lx, Lz = 4, 1\n",
    "Nx, Nz = 256, 64\n",
    "Rayleigh = 2e6\n",
    "N2= 1\n",
    "Prandtl = 1\n",
    "dealias = 3/2\n",
    "stop_sim_time = 50\n",
    "timestepper = d3.RK222\n",
    "max_timestep = 0.125\n",
    "dtype = np.float64"
   ]
  },
  {
   "cell_type": "code",
   "execution_count": 3,
   "id": "45759075-6f97-40a7-9e0f-ea3345dd6f61",
   "metadata": {},
   "outputs": [],
   "source": [
    "# Bases\n",
    "coords = d3.CartesianCoordinates('x', 'z')\n",
    "dist = d3.Distributor(coords, dtype=dtype)\n",
    "xbasis = d3.RealFourier(coords['x'], size=Nx, bounds=(-Lx, Lx), dealias=dealias)\n",
    "zbasis = d3.RealFourier(coords['z'], size=Nz, bounds=(-Lz, Lz), dealias=dealias)"
   ]
  },
  {
   "cell_type": "code",
   "execution_count": 4,
   "id": "35ba6a45-1168-430b-8d15-af9579d8e104",
   "metadata": {},
   "outputs": [],
   "source": [
    "# Fields\n",
    "p = dist.Field(name='p', bases=(xbasis,zbasis))\n",
    "b = dist.Field(name='b', bases=(xbasis,zbasis))\n",
    "u = dist.VectorField(coords, name='u', bases=(xbasis,zbasis))\n",
    "#w = dist.Field(name='w', bases=(xbasis,zbasis))\n",
    "\n",
    "tau_p = dist.Field(name='tau_p')"
   ]
  },
  {
   "cell_type": "code",
   "execution_count": 5,
   "id": "11c53fab-a5b3-418c-be18-b50e8add395f",
   "metadata": {},
   "outputs": [],
   "source": [
    "x, z = dist.local_grids(xbasis, zbasis)\n",
    "ex, ez = coords.unit_vector_fields(dist)"
   ]
  },
  {
   "cell_type": "code",
   "execution_count": 6,
   "id": "3c72648a-d9d9-4493-be3c-f9259114c1d0",
   "metadata": {},
   "outputs": [],
   "source": [
    "grad_u = d3.grad(u) "
   ]
  },
  {
   "cell_type": "code",
   "execution_count": 7,
   "id": "6b892885-4615-42be-adc0-5d6f5f38f754",
   "metadata": {},
   "outputs": [],
   "source": [
    "problem = d3.IVP([p, b, u, tau_p], namespace=locals())\n"
   ]
  },
  {
   "cell_type": "code",
   "execution_count": 8,
   "id": "37645719-5b7f-4fe5-b8e5-d12b953bd66d",
   "metadata": {},
   "outputs": [
    {
     "data": {
      "text/plain": [
       "{'LHS': Integrate(Integrate(<Field 5187043280>)),\n",
       " 'RHS': 0,\n",
       " 'condition': 'True',\n",
       " 'tensorsig': (),\n",
       " 'dtype': numpy.float64,\n",
       " 'M': 0,\n",
       " 'L': Integrate(Integrate(<Field 5187043280>)),\n",
       " 'F': <Field 5118837840>,\n",
       " 'domain': <dedalus.core.domain.Domain at 0x1352c8910>,\n",
       " 'matrix_dependence': array([ True,  True]),\n",
       " 'matrix_coupling': array([False, False])}"
      ]
     },
     "execution_count": 8,
     "metadata": {},
     "output_type": "execute_result"
    }
   ],
   "source": [
    "problem.add_equation(\"dt(u) + grad(p) - b*ez = 0\")\n",
    "problem.add_equation(\"div(u) + tau_p = 0\")\n",
    "problem.add_equation(\"dt(b) + N2*(u@ez) = 0\")\n",
    "problem.add_equation(\"integ(p) = 0\")"
   ]
  },
  {
   "cell_type": "code",
   "execution_count": 9,
   "id": "d50cae46-e10d-4f82-8a7f-17c62fe1de3a",
   "metadata": {},
   "outputs": [
    {
     "name": "stdout",
     "output_type": "stream",
     "text": [
      "2025-02-18 12:58:14,103 subsystems 0/1 INFO :: Building subproblem matrices 1/128 (~1%) Elapsed: 0s, Remaining: 2s, Rate: 5.2e+01/s\n",
      "2025-02-18 12:58:14,258 subsystems 0/1 INFO :: Building subproblem matrices 13/128 (~10%) Elapsed: 0s, Remaining: 2s, Rate: 7.4e+01/s\n",
      "2025-02-18 12:58:14,421 subsystems 0/1 INFO :: Building subproblem matrices 26/128 (~20%) Elapsed: 0s, Remaining: 1s, Rate: 7.7e+01/s\n",
      "2025-02-18 12:58:14,584 subsystems 0/1 INFO :: Building subproblem matrices 39/128 (~30%) Elapsed: 1s, Remaining: 1s, Rate: 7.8e+01/s\n",
      "2025-02-18 12:58:14,743 subsystems 0/1 INFO :: Building subproblem matrices 52/128 (~41%) Elapsed: 1s, Remaining: 1s, Rate: 7.9e+01/s\n",
      "2025-02-18 12:58:14,906 subsystems 0/1 INFO :: Building subproblem matrices 65/128 (~51%) Elapsed: 1s, Remaining: 1s, Rate: 7.9e+01/s\n",
      "2025-02-18 12:58:15,068 subsystems 0/1 INFO :: Building subproblem matrices 78/128 (~61%) Elapsed: 1s, Remaining: 1s, Rate: 7.9e+01/s\n",
      "2025-02-18 12:58:15,231 subsystems 0/1 INFO :: Building subproblem matrices 91/128 (~71%) Elapsed: 1s, Remaining: 0s, Rate: 7.9e+01/s\n",
      "2025-02-18 12:58:15,394 subsystems 0/1 INFO :: Building subproblem matrices 104/128 (~81%) Elapsed: 1s, Remaining: 0s, Rate: 7.9e+01/s\n",
      "2025-02-18 12:58:15,561 subsystems 0/1 INFO :: Building subproblem matrices 117/128 (~91%) Elapsed: 1s, Remaining: 0s, Rate: 7.9e+01/s\n",
      "2025-02-18 12:58:15,699 subsystems 0/1 INFO :: Building subproblem matrices 128/128 (~100%) Elapsed: 2s, Remaining: 0s, Rate: 7.9e+01/s\n"
     ]
    }
   ],
   "source": [
    "# Solver\n",
    "solver = problem.build_solver(timestepper)\n",
    "solver.stop_sim_time = stop_sim_time"
   ]
  },
  {
   "cell_type": "code",
   "execution_count": 10,
   "id": "3e05114f-0d92-42ab-8ae7-948fc6c51752",
   "metadata": {},
   "outputs": [],
   "source": [
    "# Initial conditions\n",
    "sigma = 0.1\n",
    "gauss_bump = np.exp(-((x)**2 + (z)**2) / (2 * sigma**2))\n",
    "\n",
    "#b['g'] *= z * (Lz - z) # Damp noise at walls\n",
    "#b['g'] += Lz - z # Add linear background\n",
    "b['g'] = gauss_bump"
   ]
  },
  {
   "cell_type": "code",
   "execution_count": 11,
   "id": "0b69ae0f-3f1e-4284-a5be-f5b412ef3b2d",
   "metadata": {},
   "outputs": [
    {
     "data": {
      "image/png": "[encoded data removed]",
      "text/plain": [
       "<Figure size 640x480 with 3 Axes>"
      ]
     },
     "metadata": {},
     "output_type": "display_data"
    }
   ],
   "source": [
    "from dedalus.extras.plot_tools import plot_bot_2d\n",
    "import matplotlib.pyplot as plt\n",
    "plot_bot_2d(b,title=\"b['g']\");"
   ]
  },
  {
   "cell_type": "code",
   "execution_count": 12,
   "id": "810bca9d-5806-4c36-a832-cd6685eed12d",
   "metadata": {},
   "outputs": [],
   "source": [
    "# Analysis\n",
    "sim_dt = 0.25\n",
    "max_writes = stop_sim_time/sim_dt\n",
    "snapshots = solver.evaluator.add_file_handler('snapshots_IC', sim_dt=sim_dt, max_writes=max_writes)\n",
    "snapshots.add_task(b, name='buoyancy')\n",
    "snapshots.add_task(u, name='uvec')\n",
    "snapshots.add_task(p, name='pressure')\n",
    "#snapshots.add_task(-d3.div(d3.skew(u)), name='vorticity')"
   ]
  },
  {
   "cell_type": "code",
   "execution_count": 13,
   "id": "4225a864-b21b-4e4b-829a-4dfe00c878a2",
   "metadata": {},
   "outputs": [],
   "source": [
    "# CFL\n",
    "CFL = d3.CFL(solver, initial_dt=max_timestep, cadence=10, safety=0.5, threshold=0.05,\n",
    "             max_change=1.5, min_change=0.5, max_dt=max_timestep)\n",
    "CFL.add_velocity(u)"
   ]
  },
  {
   "cell_type": "code",
   "execution_count": 14,
   "id": "f6ffb35e-0aea-43c2-928a-781fc356e29c",
   "metadata": {},
   "outputs": [
    {
     "name": "stdout",
     "output_type": "stream",
     "text": [
      "2025-02-18 12:58:16,321 __main__ 0/1 INFO :: Starting main loop\n",
      "2025-02-18 12:58:17,328 __main__ 0/1 INFO :: Iteration=1, Time=1.250000e-01, dt=1.250000e-01\n",
      "2025-02-18 12:58:17,507 __main__ 0/1 INFO :: Iteration=11, Time=1.375000e+00, dt=1.250000e-01\n",
      "2025-02-18 12:58:17,777 __main__ 0/1 INFO :: Iteration=21, Time=2.000000e+00, dt=6.250000e-02\n",
      "2025-02-18 12:58:18,041 __main__ 0/1 INFO :: Iteration=31, Time=2.312500e+00, dt=3.125000e-02\n",
      "2025-02-18 12:58:18,296 __main__ 0/1 INFO :: Iteration=41, Time=2.599399e+00, dt=2.868987e-02\n",
      "2025-02-18 12:58:18,557 __main__ 0/1 INFO :: Iteration=51, Time=2.926708e+00, dt=3.273096e-02\n",
      "2025-02-18 12:58:18,816 __main__ 0/1 INFO :: Iteration=61, Time=3.346020e+00, dt=4.193113e-02\n",
      "2025-02-18 12:58:19,075 __main__ 0/1 INFO :: Iteration=71, Time=3.961824e+00, dt=6.158045e-02\n",
      "2025-02-18 12:58:19,336 __main__ 0/1 INFO :: Iteration=81, Time=4.610595e+00, dt=6.487706e-02\n",
      "2025-02-18 12:58:19,591 __main__ 0/1 INFO :: Iteration=91, Time=5.155974e+00, dt=5.453796e-02\n",
      "2025-02-18 12:58:19,851 __main__ 0/1 INFO :: Iteration=101, Time=5.610931e+00, dt=4.549567e-02\n",
      "2025-02-18 12:58:19,997 __main__ 0/1 INFO :: Iteration=111, Time=6.065888e+00, dt=4.549567e-02\n",
      "2025-02-18 12:58:20,249 __main__ 0/1 INFO :: Iteration=121, Time=6.654726e+00, dt=5.888382e-02\n",
      "2025-02-18 12:58:20,514 __main__ 0/1 INFO :: Iteration=131, Time=7.537983e+00, dt=8.832573e-02\n",
      "2025-02-18 12:58:20,773 __main__ 0/1 INFO :: Iteration=141, Time=8.301690e+00, dt=7.637069e-02\n",
      "2025-02-18 12:58:21,031 __main__ 0/1 INFO :: Iteration=151, Time=8.878784e+00, dt=5.770933e-02\n",
      "2025-02-18 12:58:21,178 __main__ 0/1 INFO :: Iteration=161, Time=9.455877e+00, dt=5.770933e-02\n",
      "2025-02-18 12:58:21,432 __main__ 0/1 INFO :: Iteration=171, Time=1.032152e+01, dt=8.656400e-02\n",
      "2025-02-18 12:58:21,700 __main__ 0/1 INFO :: Iteration=181, Time=1.142113e+01, dt=1.099611e-01\n",
      "2025-02-18 12:58:21,959 __main__ 0/1 INFO :: Iteration=191, Time=1.209616e+01, dt=6.750312e-02\n",
      "2025-02-18 12:58:22,212 __main__ 0/1 INFO :: Iteration=201, Time=1.281656e+01, dt=7.204023e-02\n",
      "2025-02-18 12:58:22,481 __main__ 0/1 INFO :: Iteration=211, Time=1.389717e+01, dt=1.080603e-01\n",
      "2025-02-18 12:58:22,738 __main__ 0/1 INFO :: Iteration=221, Time=1.481320e+01, dt=9.160376e-02\n",
      "2025-02-18 12:58:22,996 __main__ 0/1 INFO :: Iteration=231, Time=1.555367e+01, dt=7.404647e-02\n",
      "2025-02-18 12:58:23,263 __main__ 0/1 INFO :: Iteration=241, Time=1.654790e+01, dt=9.942281e-02\n",
      "2025-02-18 12:58:23,532 __main__ 0/1 INFO :: Iteration=251, Time=1.779790e+01, dt=1.250000e-01\n",
      "2025-02-18 12:58:23,793 __main__ 0/1 INFO :: Iteration=261, Time=1.860729e+01, dt=8.093974e-02\n",
      "2025-02-18 12:58:24,056 __main__ 0/1 INFO :: Iteration=271, Time=1.962067e+01, dt=1.013378e-01\n",
      "2025-02-18 12:58:24,313 __main__ 0/1 INFO :: Iteration=281, Time=2.087067e+01, dt=1.250000e-01\n",
      "2025-02-18 12:58:24,577 __main__ 0/1 INFO :: Iteration=291, Time=2.175102e+01, dt=8.803450e-02\n",
      "2025-02-18 12:58:24,847 __main__ 0/1 INFO :: Iteration=301, Time=2.287999e+01, dt=1.128976e-01\n",
      "2025-02-18 12:58:25,114 __main__ 0/1 INFO :: Iteration=311, Time=2.412999e+01, dt=1.250000e-01\n",
      "2025-02-18 12:58:25,368 __main__ 0/1 INFO :: Iteration=321, Time=2.503254e+01, dt=9.025455e-02\n",
      "2025-02-18 12:58:25,639 __main__ 0/1 INFO :: Iteration=331, Time=2.628254e+01, dt=1.250000e-01\n",
      "2025-02-18 12:58:25,806 __main__ 0/1 INFO :: Iteration=341, Time=2.753254e+01, dt=1.250000e-01\n",
      "2025-02-18 12:58:26,065 __main__ 0/1 INFO :: Iteration=351, Time=2.854659e+01, dt=1.014050e-01\n",
      "2025-02-18 12:58:26,331 __main__ 0/1 INFO :: Iteration=361, Time=2.979659e+01, dt=1.250000e-01\n",
      "2025-02-18 12:58:26,597 __main__ 0/1 INFO :: Iteration=371, Time=3.087151e+01, dt=1.074919e-01\n",
      "2025-02-18 12:58:26,857 __main__ 0/1 INFO :: Iteration=381, Time=3.203774e+01, dt=1.166237e-01\n",
      "2025-02-18 12:58:27,119 __main__ 0/1 INFO :: Iteration=391, Time=3.328774e+01, dt=1.250000e-01\n",
      "2025-02-18 12:58:27,379 __main__ 0/1 INFO :: Iteration=401, Time=3.428772e+01, dt=9.999774e-02\n",
      "2025-02-18 12:58:27,645 __main__ 0/1 INFO :: Iteration=411, Time=3.553772e+01, dt=1.250000e-01\n",
      "2025-02-18 12:58:27,830 __main__ 0/1 INFO :: Iteration=421, Time=3.678772e+01, dt=1.250000e-01\n",
      "2025-02-18 12:58:28,099 __main__ 0/1 INFO :: Iteration=431, Time=3.789039e+01, dt=1.102666e-01\n",
      "2025-02-18 12:58:28,379 __main__ 0/1 INFO :: Iteration=441, Time=3.914039e+01, dt=1.250000e-01\n",
      "2025-02-18 12:58:28,649 __main__ 0/1 INFO :: Iteration=451, Time=4.027541e+01, dt=1.135020e-01\n",
      "2025-02-18 12:58:28,927 __main__ 0/1 INFO :: Iteration=461, Time=4.152541e+01, dt=1.250000e-01\n",
      "2025-02-18 12:58:29,092 __main__ 0/1 INFO :: Iteration=471, Time=4.277541e+01, dt=1.250000e-01\n",
      "2025-02-18 12:58:29,363 __main__ 0/1 INFO :: Iteration=481, Time=4.389024e+01, dt=1.114833e-01\n",
      "2025-02-18 12:58:29,633 __main__ 0/1 INFO :: Iteration=491, Time=4.514024e+01, dt=1.250000e-01\n",
      "2025-02-18 12:58:29,800 __main__ 0/1 INFO :: Iteration=501, Time=4.639024e+01, dt=1.250000e-01\n",
      "2025-02-18 12:58:30,056 __main__ 0/1 INFO :: Iteration=511, Time=4.756043e+01, dt=1.170192e-01\n",
      "2025-02-18 12:58:30,324 __main__ 0/1 INFO :: Iteration=521, Time=4.881043e+01, dt=1.250000e-01\n",
      "2025-02-18 12:58:30,595 __main__ 0/1 INFO :: Iteration=531, Time=4.999186e+01, dt=1.181432e-01\n",
      "2025-02-18 12:58:30,711 solvers 0/1 INFO :: Simulation stop time reached.\n",
      "2025-02-18 12:58:30,712 solvers 0/1 INFO :: Final iteration: 532\n",
      "2025-02-18 12:58:30,712 solvers 0/1 INFO :: Final sim time: 50.11686388648534\n",
      "2025-02-18 12:58:30,713 solvers 0/1 INFO :: Setup time (init - iter 0): 3.015 sec\n",
      "2025-02-18 12:58:30,713 solvers 0/1 INFO :: Warmup time (iter 0-10): 0.3884 sec\n",
      "2025-02-18 12:58:30,713 solvers 0/1 INFO :: Run time (iter 10-end): 13.23 sec\n",
      "2025-02-18 12:58:30,714 solvers 0/1 INFO :: CPU time (iter 10-end): 0.003674 cpu-hr\n",
      "2025-02-18 12:58:30,714 solvers 0/1 INFO :: Speed: 5.073e+06 mode-stages/cpu-sec\n"
     ]
    }
   ],
   "source": [
    "# Main loop\n",
    "startup_iter = 10\n",
    "try:\n",
    "    logger.info('Starting main loop')\n",
    "    while solver.proceed:\n",
    "        timestep = CFL.compute_timestep()\n",
    "        solver.step(timestep)\n",
    "        if (solver.iteration-1) % 10 == 0:\n",
    "            \n",
    "            logger.info('Iteration=%i, Time=%e, dt=%e' %(solver.iteration, solver.sim_time, timestep))\n",
    "except:\n",
    "    logger.error('Exception raised, triggering end of main loop.')\n",
    "    raise\n",
    "finally:\n",
    "    solver.log_stats()\n"
   ]
  },
  {
   "cell_type": "code",
   "execution_count": null,
   "id": "58ea1b61-6da8-42e0-879a-8bf716b5669e",
   "metadata": {},
   "outputs": [],
   "source": []
  },
  {
   "cell_type": "markdown",
   "id": "ea339d6f-e42e-493e-8a1f-4709bca9bbea",
   "metadata": {},
   "source": [
    "# Check the solution "
   ]
  },
  {
   "cell_type": "code",
   "execution_count": 63,
   "id": "5676e85b-5a88-468a-9ad4-be0b7c46e11c",
   "metadata": {},
   "outputs": [],
   "source": [
    "import h5py\n",
    "import numpy as np\n",
    "import matplotlib\n",
    "import matplotlib.pyplot as plt\n",
    "import matplotlib.colors as colors\n",
    "import cmocean.cm as cmo\n",
    "import dedalus.public as d3\n",
    "import matplotlib.pyplot as plt\n",
    "import matplotlib\n",
    "import numpy as np\n",
    "import os\n",
    "from PIL import Image\n",
    "from mpl_toolkits.axes_grid1 import make_axes_locatable"
   ]
  },
  {
   "cell_type": "code",
   "execution_count": 16,
   "id": "b1e8b9c6-a167-41b9-83ed-392c51af82df",
   "metadata": {},
   "outputs": [],
   "source": [
    "simdata = './snapshots_IC/snapshots_IC_s1.h5'\n"
   ]
  },
  {
   "cell_type": "code",
   "execution_count": 17,
   "id": "9b13c107-ff19-440d-9d91-27bd87266051",
   "metadata": {},
   "outputs": [
    {
     "name": "stdout",
     "output_type": "stream",
     "text": [
      "['scales', 'tasks']\n",
      "<HDF5 group \"/scales\" (9 members)>\n",
      "['constant', 'iteration', 'sim_time', 'timestep', 'wall_time', 'world_time', 'write_number', 'x_hash_4ed81b13f0aa908bb9caefe50f9a8b6a31597485', 'z_hash_65f3ebdbcb657c9267ce1ace1566dac45ab827ca']\n",
      "<HDF5 group \"/tasks\" (3 members)>\n",
      "['buoyancy', 'pressure', 'uvec']\n"
     ]
    }
   ],
   "source": [
    "with h5py.File(simdata, mode='r') as file:\n",
    "    a_group_key = list(file.keys())\n",
    "    print(a_group_key)\n",
    "    \n",
    "    print(file['scales'])\n",
    "    print(list(file['scales']))\n",
    "    print(file['tasks'])\n",
    "    print(list(file['tasks']))"
   ]
  },
  {
   "cell_type": "code",
   "execution_count": 22,
   "id": "cded81b7-66dc-403f-9da6-b5b976ee7059",
   "metadata": {},
   "outputs": [
    {
     "name": "stdout",
     "output_type": "stream",
     "text": [
      "b shape: (200, 256, 64)\n",
      "u_data: (200, 2, 256, 64)\n",
      "p_data: (200, 256, 64)\n",
      "[ 0.          0.25        0.5         0.75        1.          1.25\n",
      "  1.5         1.75        2.          2.25        2.51332908  2.76305347\n",
      "  3.01057052  3.26215733  3.53076094  3.77708273  4.02670113  4.28620938\n",
      "  4.54571763  4.77420858  5.0468984   5.29246133  5.51993969  5.79291372\n",
      "  6.02039208  6.30142303  6.53695832  6.83137742  7.00802889  7.27300608\n",
      "  7.53798328  7.76709535  8.07257813  8.3016902   8.53252754  8.76336487\n",
      "  9.05191153  9.28274886  9.54244086  9.80213286 10.06182486 10.32151686\n",
      " 10.54143912 10.76136138 11.09124477 11.31116702 11.5561344  11.75864376\n",
      " 12.02865624 12.31228005 12.52840073 12.81656164 13.03268233 13.35686335\n",
      " 13.57298404 13.78910472 14.08037258 14.2635801  14.53839138 14.81320266\n",
      " 15.03534207 15.25748148 15.55366735 15.75251297 16.0507814  16.34904983\n",
      " 16.54789545 16.79789545 17.04789545 17.29789545 17.54789545 17.79789545\n",
      " 18.04071467 18.28353389 18.52635312 18.80996841 19.01264396 19.31665729\n",
      " 19.51933284 19.87067062 20.12067062 20.37067062 20.62067062 20.87067062\n",
      " 21.04673961 21.31084311 21.5749466  21.75101559 22.08970854 22.31550383\n",
      " 22.54129913 22.76709443 23.00499208 23.25499208 23.50499208 23.75499208\n",
      " 24.00499208 24.31050117 24.58126481 24.7617739  25.03253754 25.28253754\n",
      " 25.53253754 25.78253754 26.03253754 26.28253754 26.53253754 26.78253754\n",
      " 27.03253754 27.28253754 27.53253754 27.83675249 28.03956246 28.34377741\n",
      " 28.54658738 28.79658738 29.04658738 29.29658738 29.54658738 29.79658738\n",
      " 30.01157119 30.33404692 30.54903074 30.76401456 31.10475389 31.33800132\n",
      " 31.57124875 31.80449618 32.03774361 32.28774361 32.53774361 32.78774361\n",
      " 33.03774361 33.28774361 33.58773683 33.78773232 34.08772554 34.28772103\n",
      " 34.53772103 34.78772103 35.03772103 35.28772103 35.53772103 35.78772103\n",
      " 36.03772103 36.28772103 36.53772103 36.78772103 37.00825416 37.33905386\n",
      " 37.559587   37.78012013 38.0153867  38.2653867  38.5153867  38.7653867\n",
      " 39.0153867  39.25388871 39.59439473 39.82139875 40.04840276 40.27540678\n",
      " 40.52540678 40.77540678 41.02540678 41.27540678 41.52540678 41.77540678\n",
      " 42.02540678 42.27540678 42.52540678 42.77540678 43.10985665 43.33282322\n",
      " 43.5557898  43.77875638 44.01523967 44.26523967 44.51523967 44.76523967\n",
      " 45.01523967 45.26523967 45.51523967 45.76523967 46.01523967 46.26523967\n",
      " 46.5072589  46.85831658 47.09235503 47.32639349 47.56043194 47.81043194\n",
      " 48.06043194 48.31043194 48.56043194 48.81043194 49.04671833 49.28300472\n",
      " 49.51929111 49.7555775 ]\n"
     ]
    }
   ],
   "source": [
    "with h5py.File(simdata, mode='r') as file:\n",
    "    \n",
    "    b_data = np.squeeze(np.array(file['tasks']['buoyancy']))\n",
    "    print('b shape: ' + str(b_data.shape))\n",
    "    u_data = np.squeeze(np.array(file['tasks']['uvec']))\n",
    "    print('u_data: ' + str(u_data.shape))\n",
    "    p_data = np.squeeze(np.array(file['tasks']['pressure']))\n",
    "    print('p_data: ' + str(p_data.shape))\n",
    "    #vort_data = np.squeeze(np.array(file['tasks']['vorticity']))\n",
    "    #div_data = np.squeeze(np.array(file['tasks']['divergence']))\n",
    "    \n",
    "    sim_time_ary = np.array(file['scales']['sim_time'])\n",
    "    print(sim_time_ary)\n",
    "    \n",
    "    x = np.array(file['scales'][list(file['scales'])[-2]])\n",
    "    y = np.array(file['scales'][list(file['scales'])[-1]])\n",
    "    "
   ]
  },
  {
   "cell_type": "code",
   "execution_count": 24,
   "id": "ed3f4373-be25-4fe5-a748-664db02a708c",
   "metadata": {},
   "outputs": [
    {
     "data": {
      "text/plain": [
       "<matplotlib.colorbar.Colorbar at 0x137d3dd90>"
      ]
     },
     "execution_count": 24,
     "metadata": {},
     "output_type": "execute_result"
    },
    {
     "data": {
      "image/png": "[encoded data removed]",
      "text/plain": [
       "<Figure size 1200x400 with 2 Axes>"
      ]
     },
     "metadata": {},
     "output_type": "display_data"
    }
   ],
   "source": [
    "plt.figure(figsize=(12, 4))\n",
    "plt.pcolormesh(x, y, b_data[20, :,:].T)\n",
    "plt.colorbar()"
   ]
  },
  {
   "cell_type": "code",
   "execution_count": 25,
   "id": "c883c7ab-2f8e-4216-a3b4-561486e4776b",
   "metadata": {},
   "outputs": [],
   "source": [
    "def create_animation(fun, idx, filename='my-animation.gif', dpi=200, FPS=18, loop=0):\n",
    "    '''\n",
    "    See https://pythonprogramming.altervista.org/png-to-gif/\n",
    "    fun(i) - a function creating one snapshot, has only one input:\n",
    "        - number of frame i\n",
    "    idx - range of frames, i in idx\n",
    "    FPS - frames per second\n",
    "    filename - animation name\n",
    "    dpi - set 300 or so to increase quality\n",
    "    loop - number of repeats of the gif\n",
    "    '''\n",
    "    frames = []\n",
    "    for i in idx:\n",
    "        fun(i)\n",
    "        plt.savefig('.frame.png', dpi=dpi, bbox_inches='tight')\n",
    "        plt.close()\n",
    "        frames.append(Image.open('.frame.png').convert('RGB'))\n",
    "        print(f'Frame {i} is created', end='\\r')\n",
    "    os.system('rm .frame.png')\n",
    "    # How long to persist one frame in milliseconds to have a desired FPS\n",
    "    duration = 1000 / FPS\n",
    "    print(f'Animation at FPS={FPS} will last for {len(idx)/FPS} seconds')\n",
    "    frames[0].save(\n",
    "        filename, format='GIF',\n",
    "        append_images=frames[1:],\n",
    "        save_all=True,\n",
    "        duration=duration,\n",
    "        loop=loop)"
   ]
  },
  {
   "cell_type": "code",
   "execution_count": 67,
   "id": "2a02793d-03a8-4ff4-bf64-0dcb82027c47",
   "metadata": {},
   "outputs": [],
   "source": [
    "def plot_fun(time_idx): \n",
    "    fig = plt.figure(figsize=(6, 2))\n",
    "    plt.pcolormesh(x, y, b_data[time_idx, :,:].T, vmin=-0.2, vmax=0.2, cmap='RdBu_r')\n",
    "    plt.colorbar()\n",
    "    plt.gca().set_aspect('equal')\n",
    "    #plt.title(str(sim_time_ary[time_idx])+ ' s')\n",
    "    plt.title(f\"{sim_time_ary[time_idx]:.2f} s\")\n",
    "\n",
    "    plt.tight_layout()\n",
    "    "
   ]
  },
  {
   "cell_type": "code",
   "execution_count": 68,
   "id": "8ba27709-6145-4b17-b8f9-3d5c8858d107",
   "metadata": {},
   "outputs": [
    {
     "data": {
      "image/png": "[encoded data removed]",
      "text/plain": [
       "<Figure size 600x200 with 2 Axes>"
      ]
     },
     "metadata": {},
     "output_type": "display_data"
    }
   ],
   "source": [
    "plot_fun(20)"
   ]
  },
  {
   "cell_type": "code",
   "execution_count": 69,
   "id": "6eb41241-95db-4118-9204-bf6cc30f1a95",
   "metadata": {},
   "outputs": [
    {
     "name": "stdout",
     "output_type": "stream",
     "text": [
      "Animation at FPS=18 will last for 11.11111111111111 seconds\n"
     ]
    }
   ],
   "source": [
    "fname = 'GW.gif'\n",
    "create_animation(plot_fun, range(0, len(sim_time_ary), 1), filename=fname)"
   ]
  },
  {
   "cell_type": "code",
   "execution_count": null,
   "id": "f240203b-a662-49fb-8faf-fae590b4849f",
   "metadata": {},
   "outputs": [],
   "source": []
  }
 ],
 "metadata": {
  "kernelspec": {
   "display_name": "Python 3 (ipykernel)",
   "language": "python",
   "name": "python3"
  },
  "language_info": {
   "codemirror_mode": {
    "name": "ipython",
    "version": 3
   },
   "file_extension": ".py",
   "mimetype": "text/x-python",
   "name": "python",
   "nbconvert_exporter": "python",
   "pygments_lexer": "ipython3",
   "version": "3.11.0"
  }
 },
 "nbformat": 4,
 "nbformat_minor": 5
}
